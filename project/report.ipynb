{
 "cells": [
  {
   "attachments": {},
   "cell_type": "markdown",
   "metadata": {},
   "source": [
    "## Introduction \n",
    "\n",
    "The datasets, Germany E-charging stations and E-Ladesäulenregister, when combined provide information about electric vehicle charging stations in Germany and offer valuable insights into the availability, characteristics, and usage patterns of charging infrastructure across the country.\n",
    "\n",
    "\n",
    "Germany E-charging stations:\n",
    "\n",
    "Data URL: https://opendata.rhein-kreis-neuss.de/api/v2/catalog/datasets/rhein-kreis-neuss-ladesaulen-in-deutschland/exports/csv\n",
    "This dataset represents the charging station map of the Federal Network Agency. It includes essential details about each charging station, such as the operator, type of charging facility, number of charging points, power capacity, plug types, location information (address, postal code, city), installation date, and coordinates.\n",
    "\n",
    "E-Ladesäulenregister:\n",
    "\n",
    "Data URL: https://www.bundesnetzagentur.de/SharedDocs/Downloads/DE/Sachgebiete/Energie/Unternehmen_Institutionen/E_Mobilitaet/\n",
    "Ladesaeulenregister.xlsx?__blob=publicationFile&v=21\n",
    "This dataset represents the charging facilities registered with the Federal Network Agency. It includes information about the charging station operator, address details (street, house number, postal code, city), federal state, administrative region, latitude, longitude, installation date, power capacity, charging facility type, number of charging points, plug types, and public keys."
   ]
  },
  {
   "cell_type": "markdown",
   "metadata": {},
   "source": [
    "## Methodology \n",
    "\n",
    "Questions that interests us:\n",
    "\n",
    "1.Regions with the highest number of charging stations\n",
    "\n",
    "2.Top 10 cities with the highest number of charging stations\n",
    "\n",
    "3.Distribution of charging station types\n",
    "\n",
    "4.Average power capacity of charging stations\n",
    "\n",
    "5.Average power capacity of charging stations by region\n",
    "\n",
    "6.Number of charging stations per operator\n",
    "\n",
    "In order to answer these questions following steps were followed:\n",
    "\n",
    "Data collection -  The first step was to gather the necessary datasets for analysis. The two datasets, Germany E-charging stations and E-Ladesäulenregister, were obtained from their respective sources. The data was available in different formats, including CSV and XLSX.\n",
    "\n",
    "Data Preprocessing: Before proceeding with analysis, data was preprocessed and cleaned by steps such as handling missing values, removing duplicates and unnecessary rows, standardizing column names, and encoding for German characters. \n",
    "\n",
    "Data Integration: The datasets were combined based on common fields or identifiers to create a unified dataset. This integration allowed for a comprehensive analysis of the combined data, leveraging the information from both datasets simultaneously.\n",
    "\n",
    "Exploratory Data Analysis (EDA): Combined Datset was further explored to gain insights into the charging station landscape in Germany. it involved analyzing the data distribution, identifing patterns, and uncovering of meaningful trends.\n",
    "\n",
    "Data Visualization: The findings and results were visually represented using appropriate graphs, charts, and plots. To effectively communicate the insights derived from the analysis and for better understanding of results.\n",
    "\n",
    "Interpretation and Conclusion: The results and findings from the analysis were interpreted and summarized."
   ]
  },
  {
   "attachments": {},
   "cell_type": "markdown",
   "metadata": {},
   "source": [
    "## Install dependencies\n",
    "Initially, install all required dependencies."
   ]
  },
  {
   "cell_type": "code",
   "execution_count": 7,
   "metadata": {},
   "outputs": [
    {
     "name": "stdout",
     "output_type": "stream",
     "text": [
      "Requirement already satisfied: pandas in /Users/chitraahuja/opt/anaconda3/envs/IIMl/lib/python3.10/site-packages (1.4.4)\n",
      "Requirement already satisfied: python-dateutil>=2.8.1 in /Users/chitraahuja/opt/anaconda3/envs/IIMl/lib/python3.10/site-packages (from pandas) (2.8.2)\n",
      "Requirement already satisfied: pytz>=2020.1 in /Users/chitraahuja/opt/anaconda3/envs/IIMl/lib/python3.10/site-packages (from pandas) (2022.1)\n",
      "Requirement already satisfied: numpy>=1.21.0 in /Users/chitraahuja/opt/anaconda3/envs/IIMl/lib/python3.10/site-packages (from pandas) (1.23.3)\n",
      "Requirement already satisfied: six>=1.5 in /Users/chitraahuja/opt/anaconda3/envs/IIMl/lib/python3.10/site-packages (from python-dateutil>=2.8.1->pandas) (1.16.0)\n",
      "Note: you may need to restart the kernel to use updated packages.\n",
      "Requirement already satisfied: numpy in /Users/chitraahuja/opt/anaconda3/envs/IIMl/lib/python3.10/site-packages (1.23.3)\n",
      "Note: you may need to restart the kernel to use updated packages.\n",
      "Requirement already satisfied: openpyxl in /Users/chitraahuja/opt/anaconda3/envs/IIMl/lib/python3.10/site-packages (3.1.2)\n",
      "Requirement already satisfied: et-xmlfile in /Users/chitraahuja/opt/anaconda3/envs/IIMl/lib/python3.10/site-packages (from openpyxl) (1.1.0)\n",
      "Note: you may need to restart the kernel to use updated packages.\n",
      "Requirement already satisfied: sqlalchemy in /Users/chitraahuja/opt/anaconda3/envs/IIMl/lib/python3.10/site-packages (1.4.46)\n",
      "Requirement already satisfied: greenlet!=0.4.17 in /Users/chitraahuja/opt/anaconda3/envs/IIMl/lib/python3.10/site-packages (from sqlalchemy) (2.0.2)\n",
      "Note: you may need to restart the kernel to use updated packages.\n",
      "Requirement already satisfied: matplotlib in /Users/chitraahuja/opt/anaconda3/envs/IIMl/lib/python3.10/site-packages (3.5.2)\n",
      "Requirement already satisfied: pyparsing>=2.2.1 in /Users/chitraahuja/opt/anaconda3/envs/IIMl/lib/python3.10/site-packages (from matplotlib) (3.0.9)\n",
      "Requirement already satisfied: packaging>=20.0 in /Users/chitraahuja/opt/anaconda3/envs/IIMl/lib/python3.10/site-packages (from matplotlib) (21.3)\n",
      "Requirement already satisfied: fonttools>=4.22.0 in /Users/chitraahuja/opt/anaconda3/envs/IIMl/lib/python3.10/site-packages (from matplotlib) (4.25.0)\n",
      "Requirement already satisfied: pillow>=6.2.0 in /Users/chitraahuja/opt/anaconda3/envs/IIMl/lib/python3.10/site-packages (from matplotlib) (9.2.0)\n",
      "Requirement already satisfied: cycler>=0.10 in /Users/chitraahuja/opt/anaconda3/envs/IIMl/lib/python3.10/site-packages (from matplotlib) (0.11.0)\n",
      "Requirement already satisfied: python-dateutil>=2.7 in /Users/chitraahuja/opt/anaconda3/envs/IIMl/lib/python3.10/site-packages (from matplotlib) (2.8.2)\n",
      "Requirement already satisfied: numpy>=1.17 in /Users/chitraahuja/opt/anaconda3/envs/IIMl/lib/python3.10/site-packages (from matplotlib) (1.23.3)\n",
      "Requirement already satisfied: kiwisolver>=1.0.1 in /Users/chitraahuja/opt/anaconda3/envs/IIMl/lib/python3.10/site-packages (from matplotlib) (1.4.2)\n",
      "Requirement already satisfied: six>=1.5 in /Users/chitraahuja/opt/anaconda3/envs/IIMl/lib/python3.10/site-packages (from python-dateutil>=2.7->matplotlib) (1.16.0)\n",
      "Note: you may need to restart the kernel to use updated packages.\n",
      "Requirement already satisfied: seaborn in /Users/chitraahuja/opt/anaconda3/envs/IIMl/lib/python3.10/site-packages (0.12.2)\n",
      "Requirement already satisfied: pandas>=0.25 in /Users/chitraahuja/opt/anaconda3/envs/IIMl/lib/python3.10/site-packages (from seaborn) (1.4.4)\n",
      "Requirement already satisfied: matplotlib!=3.6.1,>=3.1 in /Users/chitraahuja/opt/anaconda3/envs/IIMl/lib/python3.10/site-packages (from seaborn) (3.5.2)\n",
      "Requirement already satisfied: numpy!=1.24.0,>=1.17 in /Users/chitraahuja/opt/anaconda3/envs/IIMl/lib/python3.10/site-packages (from seaborn) (1.23.3)\n",
      "Requirement already satisfied: pillow>=6.2.0 in /Users/chitraahuja/opt/anaconda3/envs/IIMl/lib/python3.10/site-packages (from matplotlib!=3.6.1,>=3.1->seaborn) (9.2.0)\n",
      "Requirement already satisfied: kiwisolver>=1.0.1 in /Users/chitraahuja/opt/anaconda3/envs/IIMl/lib/python3.10/site-packages (from matplotlib!=3.6.1,>=3.1->seaborn) (1.4.2)\n",
      "Requirement already satisfied: python-dateutil>=2.7 in /Users/chitraahuja/opt/anaconda3/envs/IIMl/lib/python3.10/site-packages (from matplotlib!=3.6.1,>=3.1->seaborn) (2.8.2)\n",
      "Requirement already satisfied: packaging>=20.0 in /Users/chitraahuja/opt/anaconda3/envs/IIMl/lib/python3.10/site-packages (from matplotlib!=3.6.1,>=3.1->seaborn) (21.3)\n",
      "Requirement already satisfied: cycler>=0.10 in /Users/chitraahuja/opt/anaconda3/envs/IIMl/lib/python3.10/site-packages (from matplotlib!=3.6.1,>=3.1->seaborn) (0.11.0)\n",
      "Requirement already satisfied: fonttools>=4.22.0 in /Users/chitraahuja/opt/anaconda3/envs/IIMl/lib/python3.10/site-packages (from matplotlib!=3.6.1,>=3.1->seaborn) (4.25.0)\n",
      "Requirement already satisfied: pyparsing>=2.2.1 in /Users/chitraahuja/opt/anaconda3/envs/IIMl/lib/python3.10/site-packages (from matplotlib!=3.6.1,>=3.1->seaborn) (3.0.9)\n",
      "Requirement already satisfied: pytz>=2020.1 in /Users/chitraahuja/opt/anaconda3/envs/IIMl/lib/python3.10/site-packages (from pandas>=0.25->seaborn) (2022.1)\n",
      "Requirement already satisfied: six>=1.5 in /Users/chitraahuja/opt/anaconda3/envs/IIMl/lib/python3.10/site-packages (from python-dateutil>=2.7->matplotlib!=3.6.1,>=3.1->seaborn) (1.16.0)\n",
      "Note: you may need to restart the kernel to use updated packages.\n"
     ]
    }
   ],
   "source": [
    "%pip install pandas\n",
    "%pip install numpy\n",
    "%pip install openpyxl\n",
    "%pip install sqlalchemy\n",
    "%pip install matplotlib\n",
    "%pip install seaborn"
   ]
  },
  {
   "attachments": {},
   "cell_type": "markdown",
   "metadata": {},
   "source": [
    "## Data Description"
   ]
  },
  {
   "cell_type": "markdown",
   "metadata": {},
   "source": [
    "# Load data\n",
    "Create a pandas dataframe using the local sqlite file."
   ]
  },
  {
   "cell_type": "code",
   "execution_count": 6,
   "metadata": {},
   "outputs": [],
   "source": [
    "\n",
    "import pandas as pd\n",
    "import matplotlib.pyplot as plt\n",
    "import seaborn as sns\n",
    "\n",
    "# Load Datasource1: Germany E-charging stations (CSV)\n",
    "charging_stations_data = pd.read_sql_table('e_charging_stations', 'sqlite:///AMSE_database.sqlite')\n",
    "# Load Datasource2: E-Ladesäulenregister (XLSX)\n",
    "charging_register_data = pd.read_sql_table('e_ladesäulenregister', 'sqlite:///AMSE_database.sqlite')\n"
   ]
  },
  {
   "cell_type": "markdown",
   "metadata": {},
   "source": [
    "# Initial rows of 2 datasets"
   ]
  },
  {
   "cell_type": "markdown",
   "metadata": {},
   "source": [
    "# Datasource 1 : Germany E-charging stations (CSV)"
   ]
  },
  {
   "cell_type": "code",
   "execution_count": null,
   "metadata": {},
   "outputs": [],
   "source": [
    "charging_stations_data.head(10)"
   ]
  },
  {
   "cell_type": "markdown",
   "metadata": {},
   "source": [
    "# Datasource2: E-Ladesäulenregister (XLSX)"
   ]
  },
  {
   "cell_type": "code",
   "execution_count": null,
   "metadata": {},
   "outputs": [],
   "source": [
    "charging_register_data.head(10)"
   ]
  },
  {
   "cell_type": "markdown",
   "metadata": {},
   "source": [
    "# Checking dimenesions of the 2 datasets. "
   ]
  },
  {
   "cell_type": "code",
   "execution_count": null,
   "metadata": {},
   "outputs": [],
   "source": [
    "# Check the dimensions of the dataset 1\n",
    "print (\"Dataset 1:\")\n",
    "print(charging_stations_data.shape)\n",
    "\n",
    "# Check the dimensions of the dataset 2\n",
    "print (\"\\nDataset 2:\")\n",
    "print(charging_register_data.shape)"
   ]
  },
  {
   "cell_type": "markdown",
   "metadata": {},
   "source": [
    "# Information regarding 2 datasources"
   ]
  },
  {
   "cell_type": "code",
   "execution_count": null,
   "metadata": {},
   "outputs": [],
   "source": [
    "print(\"Basic info : DataSet 1\\n\")\n",
    "charging_stations_data.info()\n",
    "\n",
    "print(\"\\nBasic info : DataSet 2\\n\")\n",
    "charging_register_data.info()"
   ]
  },
  {
   "attachments": {},
   "cell_type": "markdown",
   "metadata": {},
   "source": [
    "## Results, Findings and Interpretation"
   ]
  },
  {
   "cell_type": "markdown",
   "metadata": {},
   "source": [
    "## Data integration :\n",
    "        \n",
    "        Merging of two datasets using pd.concat\n",
    "        \n",
    "        In our findings, the focus is on the top 10 or 20 values, as this ensures that the graph remains manageable."
   ]
  },
  {
   "cell_type": "code",
   "execution_count": null,
   "metadata": {},
   "outputs": [],
   "source": [
    "import pandas as pd\n",
    "import matplotlib.pyplot as plt\n",
    "import seaborn as sns\n",
    "\n",
    "# Merge the datasets based on relevant columns\n",
    "merged_data = pd.concat([charging_stations_data, charging_register_data])"
   ]
  },
  {
   "cell_type": "markdown",
   "metadata": {},
   "source": [
    "1. Regions with the highest number of charging station\n",
    "\n",
    "    To determine this the combined dataset was analyzed to identify the unique regions present.\n",
    "\n",
    "    Column used for this is \"kreis_kreisfreie_stadt\".\n",
    "\n",
    "    The count of charging stations was calculated for each region based on this regions with the highest number of charging stations were determined. \n",
    "\n",
    "    Providing insights into the geographical distribution of charging infrastructure in Germany."
   ]
  },
  {
   "cell_type": "code",
   "execution_count": null,
   "metadata": {},
   "outputs": [],
   "source": [
    "\n",
    "\n",
    "# Question 1: Regions with the highest number of charging stations\n",
    "region_counts = merged_data['kreis_kreisfreie_stadt'].value_counts().nlargest(20)\n",
    "plt.figure(figsize=(10, 6))\n",
    "sns.barplot(x=region_counts.index, y=region_counts.values)\n",
    "plt.title('Charging Stations by Region')\n",
    "plt.xlabel('Region')\n",
    "plt.ylabel('Count')\n",
    "plt.xticks(rotation=45, ha='right')\n",
    "plt.show()"
   ]
  },
  {
   "cell_type": "markdown",
   "metadata": {},
   "source": [
    "2. Top 10 cities with the highest number of charging stations\n",
    "\n",
    "    For this, the combined dataset was analyzed to identify the unique cities present and then the count of charging stations was calculated for each city.\n",
    "    \n",
    "    The top 10 cities with the highest number of charging stations were determined based on these counts.\n",
    "\n",
    "    Column used for this is \"ort\"\n",
    "\n",
    "    Highlighting the urban areas with the most developed charging infrastructure."
   ]
  },
  {
   "cell_type": "code",
   "execution_count": null,
   "metadata": {},
   "outputs": [],
   "source": [
    "# Question 2: Top 10 cities with the highest number of charging stations\n",
    "top_cities = merged_data['ort'].value_counts().nlargest(10)\n",
    "print(top_cities.index)\n",
    "plt.figure(figsize=(10, 6))\n",
    "sns.barplot(x=top_cities.index, y=top_cities.values)\n",
    "plt.title('Top 10 Cities with the Highest Number of Charging Stations')\n",
    "plt.xlabel('City')\n",
    "plt.ylabel('Count')\n",
    "plt.xticks(rotation=45)\n",
    "plt.show()"
   ]
  },
  {
   "cell_type": "markdown",
   "metadata": {},
   "source": [
    "3. Average power capacity of charging stations\n",
    "\n",
    "    The power capacity column that is \"anschlussleistung\" in the dataset was extracted.\n",
    "\n",
    "    Data cleaning or preprocessing was performed on the power capacity values by using replace and astype function.\n",
    "    \n",
    "    The average power capacity of all charging stations was calculated by using mean().\n",
    "\n",
    "    Indicating the typical charging capabilities available across the dataset."
   ]
  },
  {
   "cell_type": "code",
   "execution_count": null,
   "metadata": {},
   "outputs": [],
   "source": [
    "\n",
    "# Question 3: Average power capacity of charging stations\n",
    "merged_data['anschlussleistung'] = merged_data['anschlussleistung'].replace(' kW', '').replace(',', '.').astype(float).nlargest(20)\n",
    "average_power_capacity = merged_data['anschlussleistung'].mean()\n",
    "print(\"Average Power Capacity of Charging Stations (kW):\", average_power_capacity)"
   ]
  },
  {
   "cell_type": "markdown",
   "metadata": {},
   "source": [
    "4. Average power capacity of charging stations by region\n",
    "\n",
    "    The dataset was first grouped by column name 'kreis_kreisfreie_stadt'(region) and then average power capacity (column name for this : 'anschlussleistung' ) of charging stations within each region was calculated.\n",
    "\n",
    "    Revealing regional variations in charging infrastructure capabilities."
   ]
  },
  {
   "cell_type": "code",
   "execution_count": null,
   "metadata": {},
   "outputs": [],
   "source": [
    "\n",
    "# Question 4: Average power capacity of charging stations by region\n",
    "region_avg_power_capacity = merged_data.groupby('kreis_kreisfreie_stadt')['anschlussleistung'].mean().sort_values(ascending=False).nlargest(20)\n",
    "plt.figure(figsize=(10, 6))\n",
    "sns.barplot(x=region_avg_power_capacity.index, y=region_avg_power_capacity.values)\n",
    "plt.title('Average Power Capacity of Charging Stations by Region')\n",
    "plt.xlabel('Region')\n",
    "plt.ylabel('Average Power Capacity (kW)')\n",
    "plt.xticks(rotation=45, ha=\"right\")\n",
    "plt.show()"
   ]
  },
  {
   "cell_type": "markdown",
   "metadata": {},
   "source": [
    "5. Distribution of charging station types\n",
    "\n",
    "    The \"art_der_ladeeinrichung\" (charging station type) column from both datasets was analyzed.\n",
    "\n",
    "    Unique types of charging stations were identified and count of each charging station type was calculated to determine the distribution.\n",
    "\n",
    "    It helps understand the variety of charging options available. Providing insights into the charging technology landscape in Germany."
   ]
  },
  {
   "cell_type": "code",
   "execution_count": null,
   "metadata": {},
   "outputs": [],
   "source": [
    "\n",
    "# Question 5: Distribution of charging station types\n",
    "station_type_counts = merged_data['art_der_ladeeinrichung'].value_counts().nlargest(20)\n",
    "plt.figure(figsize=(10, 6))\n",
    "sns.barplot(x=station_type_counts.index, y=station_type_counts.values)\n",
    "plt.title('Distribution of Charging Station Types')\n",
    "plt.xlabel('Charging Station Type')\n",
    "plt.ylabel('Count')\n",
    "plt.xticks(rotation=45)\n",
    "plt.show()"
   ]
  },
  {
   "cell_type": "markdown",
   "metadata": {},
   "source": [
    "6. Number of charging stations per operator\n",
    "\n",
    "    The number of charging stations was calculated for each operator usin column \"betreiber\", giving an overview of the market share and presence of different operators in the charging network."
   ]
  },
  {
   "cell_type": "code",
   "execution_count": null,
   "metadata": {},
   "outputs": [],
   "source": [
    "\n",
    "# Question 6: Number of charging stations per operator\n",
    "operator_counts = merged_data['betreiber'].value_counts().nlargest(10)\n",
    "plt.figure(figsize=(10, 6))\n",
    "sns.barplot(x=operator_counts.index, y=operator_counts.values)\n",
    "plt.title('Number of Charging Stations per Operator')\n",
    "plt.xlabel('Operator')\n",
    "plt.ylabel('Count')\n",
    "plt.xticks(rotation=45, ha=\"right\")\n",
    "plt.show()"
   ]
  },
  {
   "cell_type": "markdown",
   "metadata": {},
   "source": [
    "## Conclusion\n",
    "\n",
    "\n",
    "In conclusion, the analysis of the Germany E-charging stations and E-Ladesäulenregister datasets provided valuable insights into the charging infrastructure landscape in Germany.\n",
    "\n",
    " The regions with the highest number of charging stations were identified, indicating the areas with the most developed charging network. The top 10 cities with the highest number of charging stations were identified, emphasizing the urban areas with the most extensive charging infrastructure. \n",
    " \n",
    " The average power capacity of charging stations was determined, highlighting the typical charging capabilities available.The analysis of average power capacity by region revealed regional variations in charging infrastructure capabilities.\n",
    " \n",
    " The distribution of charging station types showcased the variety of charging options in the country. Lastly, the number of charging stations per operator shed light on the market share and presence of different operators in the charging network. \n",
    " \n",
    " Overall, these findings contribute to a better understanding of the current state of e-charging infrastructure in Germany and can guide policymakers, businesses, and individuals in the further development and utilization of electric vehicles."
   ]
  }
 ],
 "metadata": {
  "interpreter": {
   "hash": "51dc36d156af9c805f72e0db3969efae6bba5c6d6423993b23bae8b4abfbbcf8"
  },
  "kernelspec": {
   "display_name": "Python 3.10.6 ('IIMl')",
   "language": "python",
   "name": "python3"
  },
  "language_info": {
   "codemirror_mode": {
    "name": "ipython",
    "version": 3
   },
   "file_extension": ".py",
   "mimetype": "text/x-python",
   "name": "python",
   "nbconvert_exporter": "python",
   "pygments_lexer": "ipython3",
   "version": "3.10.6"
  },
  "orig_nbformat": 4
 },
 "nbformat": 4,
 "nbformat_minor": 2
}
