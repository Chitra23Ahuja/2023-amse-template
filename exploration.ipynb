{
 "cells": [
  {
   "attachments": {},
   "cell_type": "markdown",
   "metadata": {},
   "source": [
    "# Data Exploration\n",
    "\n",
    "In this notebook describe your data exploration steps."
   ]
  },
  {
   "attachments": {},
   "cell_type": "markdown",
   "metadata": {},
   "source": [
    "## Install dependencies"
   ]
  },
  {
   "cell_type": "code",
   "execution_count": null,
   "metadata": {},
   "outputs": [],
   "source": [
    "%pip install pandas\n",
    "%pip install seaborn\n",
    "%pip install matplotlib \n",
    "%pip install sqlalchemy\n",
    "%pip install openpyxl"
   ]
  },
  {
   "attachments": {},
   "cell_type": "markdown",
   "metadata": {},
   "source": [
    "## Load data"
   ]
  },
  {
   "cell_type": "code",
   "execution_count": null,
   "metadata": {},
   "outputs": [],
   "source": [
    "import pandas as pd \n",
    "csv_df = pd.read_sql_table('e_charging_stations', 'sqlite:///AMSE_database.sqlite')\n",
    "excel_df = pd.read_sql_table('e_ladesäulenregister', 'sqlite:///AMSE_database.sqlite')"
   ]
  },
  {
   "attachments": {},
   "cell_type": "markdown",
   "metadata": {},
   "source": [
    "### Look at the first rows"
   ]
  },
  {
   "cell_type": "code",
   "execution_count": null,
   "metadata": {},
   "outputs": [],
   "source": [
    "csv_df.head(10)"
   ]
  },
  {
   "cell_type": "code",
   "execution_count": null,
   "metadata": {},
   "outputs": [],
   "source": [
    "excel_df.head(10)"
   ]
  },
  {
   "attachments": {},
   "cell_type": "markdown",
   "metadata": {},
   "source": [
    "### Data exploration\n",
    "Print some basic information about the data. Your data exploration would continue here."
   ]
  },
  {
   "cell_type": "code",
   "execution_count": null,
   "metadata": {},
   "outputs": [],
   "source": [
    "csv_df.info()"
   ]
  },
  {
   "cell_type": "code",
   "execution_count": null,
   "metadata": {},
   "outputs": [],
   "source": [
    "excel_df.info()"
   ]
  },
  {
   "cell_type": "code",
   "execution_count": null,
   "metadata": {},
   "outputs": [],
   "source": [
    "csv_df.groupby([\"ort\"]).count()"
   ]
  },
  {
   "cell_type": "code",
   "execution_count": null,
   "metadata": {},
   "outputs": [],
   "source": [
    "excel_df.groupby([\"ort\"]).count()"
   ]
  },
  {
   "cell_type": "code",
   "execution_count": null,
   "metadata": {},
   "outputs": [],
   "source": [
    "shared_columns = ['betreiber', 'strasse', 'hausnummer', 'postleitzahl', 'ort']\n",
    "print(\"\\nSummary statistics for shared columns:\")\n",
    "print(\"Mobilithek:\")\n",
    "print(csv_df[shared_columns].describe())\n",
    "print(\"\\nGovData:\")\n",
    "print(excel_df[shared_columns].describe())"
   ]
  },
  {
   "cell_type": "code",
   "execution_count": null,
   "metadata": {},
   "outputs": [],
   "source": [
    "import matplotlib.pyplot as plt\n",
    "plt.rcParams['font.family'] = 'Arial Unicode MS'\n",
    "\n",
    "\n",
    "operator_counts_mobilithek = csv_df['betreiber'].value_counts().sort_values(ascending=False)\n",
    "plt.figure(figsize=(10, 6))  \n",
    "plt.scatter(operator_counts_mobilithek.index, operator_counts_mobilithek.values)\n",
    "plt.xlabel('Operator')\n",
    "plt.ylabel('Number of Charging Points')\n",
    "plt.title('Number of Charging Points by Operator (Mobilithek)')\n",
    "plt.xticks([]) \n",
    "plt.show()\n",
    "\n",
    "\n",
    "operator_counts_govdata = excel_df['betreiber'].value_counts().sort_values(ascending=False)\n",
    "plt.figure(figsize=(10, 6))  \n",
    "plt.scatter(operator_counts_govdata.index, operator_counts_govdata.values)\n",
    "plt.xlabel('Operator')\n",
    "plt.ylabel('Number of Charging Points')\n",
    "plt.title('Number of Charging Points by Operator (GovData)')\n",
    "plt.xticks([])\n",
    "plt.show()\n"
   ]
  },
  {
   "cell_type": "code",
   "execution_count": null,
   "metadata": {},
   "outputs": [],
   "source": [
    "import matplotlib.pyplot as plt\n",
    "\n",
    "combined_data = pd.concat([csv_df, excel_df])\n",
    "combined_data['betreiber'] = combined_data['betreiber'].str.strip()\n",
    "combined_data.drop_duplicates()\n",
    "combined_data.fillna(0)\n",
    "\n",
    "charging_points_by_operator = combined_data.groupby('betreiber')['anzahl_ladepunkte'].sum()\n",
    "\n",
    "charging_points = [charging_points_by_operator[operator] for operator in charging_points_by_operator.index]\n",
    "\n",
    "plt.figure(figsize=(12, 6))\n",
    "plt.boxplot(charging_points, vert=False)\n",
    "plt.xlabel('Number of Charging Points')\n",
    "plt.ylabel('Operator')\n",
    "plt.title('Boxplot: Number of Charging Points by Operator')\n",
    "plt.yticks([]) \n",
    "plt.show()\n",
    "\n",
    "\n",
    "\n",
    "\n",
    "\n",
    "\n",
    "\n"
   ]
  }
 ],
 "metadata": {
  "interpreter": {
   "hash": "d789d802f4ee7de6a0949636fcd8f946966fe35201110d5de1dfc404210ae23d"
  },
  "kernelspec": {
   "display_name": "Python 3.9.7 ('base')",
   "language": "python",
   "name": "python3"
  },
  "language_info": {
   "codemirror_mode": {
    "name": "ipython",
    "version": 3
   },
   "file_extension": ".py",
   "mimetype": "text/x-python",
   "name": "python",
   "nbconvert_exporter": "python",
   "pygments_lexer": "ipython3",
   "version": "3.9.7"
  },
  "orig_nbformat": 4
 },
 "nbformat": 4,
 "nbformat_minor": 2
}
