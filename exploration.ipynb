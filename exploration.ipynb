{
 "cells": [
  {
   "attachments": {},
   "cell_type": "markdown",
   "metadata": {},
   "source": [
    "# Data Exploration\n",
    "\n",
    "In this notebook describe your data exploration steps."
   ]
  },
  {
   "attachments": {},
   "cell_type": "markdown",
   "metadata": {},
   "source": [
    "## Install dependencies"
   ]
  },
  {
   "cell_type": "code",
   "execution_count": 1,
   "metadata": {},
   "outputs": [
    {
     "name": "stdout",
     "output_type": "stream",
     "text": [
      "Requirement already satisfied: pandas in /Users/chitraahuja/opt/anaconda3/envs/IIMl/lib/python3.10/site-packages (1.4.4)\n",
      "Requirement already satisfied: python-dateutil>=2.8.1 in /Users/chitraahuja/opt/anaconda3/envs/IIMl/lib/python3.10/site-packages (from pandas) (2.8.2)\n",
      "Requirement already satisfied: pytz>=2020.1 in /Users/chitraahuja/opt/anaconda3/envs/IIMl/lib/python3.10/site-packages (from pandas) (2022.1)\n",
      "Requirement already satisfied: numpy>=1.21.0 in /Users/chitraahuja/opt/anaconda3/envs/IIMl/lib/python3.10/site-packages (from pandas) (1.23.3)\n",
      "Requirement already satisfied: six>=1.5 in /Users/chitraahuja/opt/anaconda3/envs/IIMl/lib/python3.10/site-packages (from python-dateutil>=2.8.1->pandas) (1.16.0)\n",
      "Note: you may need to restart the kernel to use updated packages.\n",
      "Requirement already satisfied: seaborn in /Users/chitraahuja/opt/anaconda3/envs/IIMl/lib/python3.10/site-packages (0.12.2)\n",
      "Requirement already satisfied: pandas>=0.25 in /Users/chitraahuja/opt/anaconda3/envs/IIMl/lib/python3.10/site-packages (from seaborn) (1.4.4)\n",
      "Requirement already satisfied: matplotlib!=3.6.1,>=3.1 in /Users/chitraahuja/opt/anaconda3/envs/IIMl/lib/python3.10/site-packages (from seaborn) (3.5.2)\n",
      "Requirement already satisfied: numpy!=1.24.0,>=1.17 in /Users/chitraahuja/opt/anaconda3/envs/IIMl/lib/python3.10/site-packages (from seaborn) (1.23.3)\n",
      "Requirement already satisfied: kiwisolver>=1.0.1 in /Users/chitraahuja/opt/anaconda3/envs/IIMl/lib/python3.10/site-packages (from matplotlib!=3.6.1,>=3.1->seaborn) (1.4.2)\n",
      "Requirement already satisfied: pillow>=6.2.0 in /Users/chitraahuja/opt/anaconda3/envs/IIMl/lib/python3.10/site-packages (from matplotlib!=3.6.1,>=3.1->seaborn) (9.2.0)\n",
      "Requirement already satisfied: pyparsing>=2.2.1 in /Users/chitraahuja/opt/anaconda3/envs/IIMl/lib/python3.10/site-packages (from matplotlib!=3.6.1,>=3.1->seaborn) (3.0.9)\n",
      "Requirement already satisfied: cycler>=0.10 in /Users/chitraahuja/opt/anaconda3/envs/IIMl/lib/python3.10/site-packages (from matplotlib!=3.6.1,>=3.1->seaborn) (0.11.0)\n",
      "Requirement already satisfied: python-dateutil>=2.7 in /Users/chitraahuja/opt/anaconda3/envs/IIMl/lib/python3.10/site-packages (from matplotlib!=3.6.1,>=3.1->seaborn) (2.8.2)\n",
      "Requirement already satisfied: packaging>=20.0 in /Users/chitraahuja/opt/anaconda3/envs/IIMl/lib/python3.10/site-packages (from matplotlib!=3.6.1,>=3.1->seaborn) (21.3)\n",
      "Requirement already satisfied: fonttools>=4.22.0 in /Users/chitraahuja/opt/anaconda3/envs/IIMl/lib/python3.10/site-packages (from matplotlib!=3.6.1,>=3.1->seaborn) (4.25.0)\n",
      "Requirement already satisfied: pytz>=2020.1 in /Users/chitraahuja/opt/anaconda3/envs/IIMl/lib/python3.10/site-packages (from pandas>=0.25->seaborn) (2022.1)\n",
      "Requirement already satisfied: six>=1.5 in /Users/chitraahuja/opt/anaconda3/envs/IIMl/lib/python3.10/site-packages (from python-dateutil>=2.7->matplotlib!=3.6.1,>=3.1->seaborn) (1.16.0)\n",
      "Note: you may need to restart the kernel to use updated packages.\n",
      "Requirement already satisfied: matplotlib in /Users/chitraahuja/opt/anaconda3/envs/IIMl/lib/python3.10/site-packages (3.5.2)\n",
      "Requirement already satisfied: python-dateutil>=2.7 in /Users/chitraahuja/opt/anaconda3/envs/IIMl/lib/python3.10/site-packages (from matplotlib) (2.8.2)\n",
      "Requirement already satisfied: kiwisolver>=1.0.1 in /Users/chitraahuja/opt/anaconda3/envs/IIMl/lib/python3.10/site-packages (from matplotlib) (1.4.2)\n",
      "Requirement already satisfied: cycler>=0.10 in /Users/chitraahuja/opt/anaconda3/envs/IIMl/lib/python3.10/site-packages (from matplotlib) (0.11.0)\n",
      "Requirement already satisfied: numpy>=1.17 in /Users/chitraahuja/opt/anaconda3/envs/IIMl/lib/python3.10/site-packages (from matplotlib) (1.23.3)\n",
      "Requirement already satisfied: fonttools>=4.22.0 in /Users/chitraahuja/opt/anaconda3/envs/IIMl/lib/python3.10/site-packages (from matplotlib) (4.25.0)\n",
      "Requirement already satisfied: pyparsing>=2.2.1 in /Users/chitraahuja/opt/anaconda3/envs/IIMl/lib/python3.10/site-packages (from matplotlib) (3.0.9)\n",
      "Requirement already satisfied: pillow>=6.2.0 in /Users/chitraahuja/opt/anaconda3/envs/IIMl/lib/python3.10/site-packages (from matplotlib) (9.2.0)\n",
      "Requirement already satisfied: packaging>=20.0 in /Users/chitraahuja/opt/anaconda3/envs/IIMl/lib/python3.10/site-packages (from matplotlib) (21.3)\n",
      "Requirement already satisfied: six>=1.5 in /Users/chitraahuja/opt/anaconda3/envs/IIMl/lib/python3.10/site-packages (from python-dateutil>=2.7->matplotlib) (1.16.0)\n",
      "Note: you may need to restart the kernel to use updated packages.\n",
      "Requirement already satisfied: sqlalchemy in /Users/chitraahuja/opt/anaconda3/envs/IIMl/lib/python3.10/site-packages (1.4.46)\n",
      "Requirement already satisfied: greenlet!=0.4.17 in /Users/chitraahuja/opt/anaconda3/envs/IIMl/lib/python3.10/site-packages (from sqlalchemy) (2.0.2)\n",
      "Note: you may need to restart the kernel to use updated packages.\n",
      "Requirement already satisfied: openpyxl in /Users/chitraahuja/opt/anaconda3/envs/IIMl/lib/python3.10/site-packages (3.1.2)\n",
      "Requirement already satisfied: et-xmlfile in /Users/chitraahuja/opt/anaconda3/envs/IIMl/lib/python3.10/site-packages (from openpyxl) (1.1.0)\n",
      "Note: you may need to restart the kernel to use updated packages.\n"
     ]
    }
   ],
   "source": [
    "%pip install pandas\n",
    "%pip install seaborn\n",
    "%pip install matplotlib \n",
    "%pip install sqlalchemy\n",
    "%pip install openpyxl"
   ]
  },
  {
   "attachments": {},
   "cell_type": "markdown",
   "metadata": {},
   "source": [
    "## Load data"
   ]
  },
  {
   "cell_type": "code",
   "execution_count": 11,
   "metadata": {},
   "outputs": [],
   "source": [
    "import pandas as pd \n",
    "\n",
    "csv_df = pd.read_sql_table('e_charging_stations', 'sqlite:///data/AMSE_database.sqlite')\n",
    "excel_df = pd.read_sql_table('e_ladesäulenregister', 'sqlite:///data/AMSE_database.sqlite')"
   ]
  },
  {
   "attachments": {},
   "cell_type": "markdown",
   "metadata": {},
   "source": [
    "### Look at the first rows"
   ]
  },
  {
   "cell_type": "code",
   "execution_count": null,
   "metadata": {},
   "outputs": [],
   "source": [
    "csv_df.head(10)"
   ]
  },
  {
   "cell_type": "code",
   "execution_count": null,
   "metadata": {},
   "outputs": [],
   "source": [
    "excel_df.head(10)"
   ]
  },
  {
   "attachments": {},
   "cell_type": "markdown",
   "metadata": {},
   "source": [
    "### Data exploration\n",
    "Print some basic information about the data. Your data exploration would continue here."
   ]
  },
  {
   "cell_type": "code",
   "execution_count": null,
   "metadata": {},
   "outputs": [],
   "source": [
    "csv_df.info()"
   ]
  },
  {
   "cell_type": "code",
   "execution_count": null,
   "metadata": {},
   "outputs": [],
   "source": [
    "excel_df.info()"
   ]
  },
  {
   "cell_type": "code",
   "execution_count": null,
   "metadata": {},
   "outputs": [],
   "source": [
    "csv_df.groupby([\"ort\"]).count()"
   ]
  },
  {
   "cell_type": "code",
   "execution_count": null,
   "metadata": {},
   "outputs": [],
   "source": [
    "excel_df.groupby([\"ort\"]).count()"
   ]
  },
  {
   "cell_type": "code",
   "execution_count": null,
   "metadata": {},
   "outputs": [],
   "source": [
    "shared_columns = ['betreiber', 'strasse', 'hausnummer', 'postleitzahl', 'ort']\n",
    "print(\"\\nSummary statistics for shared columns:\")\n",
    "print(\"Mobilithek:\")\n",
    "print(csv_df[shared_columns].describe())\n",
    "print(\"\\nGovData:\")\n",
    "print(excel_df[shared_columns].describe())"
   ]
  },
  {
   "cell_type": "code",
   "execution_count": null,
   "metadata": {},
   "outputs": [],
   "source": [
    "import matplotlib.pyplot as plt\n",
    "plt.rcParams['font.family'] = 'Arial Unicode MS'\n",
    "\n",
    "\n",
    "operator_counts_mobilithek = csv_df['betreiber'].value_counts().sort_values(ascending=False)\n",
    "plt.figure(figsize=(10, 6))  \n",
    "plt.scatter(operator_counts_mobilithek.index, operator_counts_mobilithek.values)\n",
    "plt.xlabel('Operator')\n",
    "plt.ylabel('Number of Charging Points')\n",
    "plt.title('Number of Charging Points by Operator (Mobilithek)')\n",
    "plt.xticks([]) \n",
    "plt.show()\n",
    "\n",
    "\n",
    "operator_counts_govdata = excel_df['betreiber'].value_counts().sort_values(ascending=False)\n",
    "plt.figure(figsize=(10, 6))  \n",
    "plt.scatter(operator_counts_govdata.index, operator_counts_govdata.values)\n",
    "plt.xlabel('Operator')\n",
    "plt.ylabel('Number of Charging Points')\n",
    "plt.title('Number of Charging Points by Operator (GovData)')\n",
    "plt.xticks([])\n",
    "plt.show()\n"
   ]
  },
  {
   "cell_type": "code",
   "execution_count": null,
   "metadata": {},
   "outputs": [],
   "source": [
    "import matplotlib.pyplot as plt\n",
    "\n",
    "combined_data = pd.concat([csv_df, excel_df])\n",
    "combined_data['betreiber'] = combined_data['betreiber'].str.strip()\n",
    "combined_data.drop_duplicates()\n",
    "combined_data.fillna(0)\n",
    "\n",
    "charging_points_by_operator = combined_data.groupby('betreiber')['anzahl_ladepunkte'].sum()\n",
    "\n",
    "charging_points = [charging_points_by_operator[operator] for operator in charging_points_by_operator.index]\n",
    "\n",
    "plt.figure(figsize=(12, 6))\n",
    "plt.boxplot(charging_points, vert=False)\n",
    "plt.xlabel('Number of Charging Points')\n",
    "plt.ylabel('Operator')\n",
    "plt.title('Boxplot: Number of Charging Points by Operator')\n",
    "plt.yticks([]) \n",
    "plt.show()\n",
    "\n",
    "\n",
    "\n",
    "\n",
    "\n",
    "\n",
    "\n"
   ]
  }
 ],
 "metadata": {
  "interpreter": {
   "hash": "51dc36d156af9c805f72e0db3969efae6bba5c6d6423993b23bae8b4abfbbcf8"
  },
  "kernelspec": {
   "display_name": "Python 3.10.6 ('IIMl')",
   "language": "python",
   "name": "python3"
  },
  "language_info": {
   "codemirror_mode": {
    "name": "ipython",
    "version": 3
   },
   "file_extension": ".py",
   "mimetype": "text/x-python",
   "name": "python",
   "nbconvert_exporter": "python",
   "pygments_lexer": "ipython3",
   "version": "3.10.6"
  },
  "orig_nbformat": 4
 },
 "nbformat": 4,
 "nbformat_minor": 2
}
